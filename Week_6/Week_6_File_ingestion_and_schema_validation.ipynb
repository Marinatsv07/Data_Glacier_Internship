{
  "nbformat": 4,
  "nbformat_minor": 0,
  "metadata": {
    "colab": {
      "provenance": []
    },
    "kernelspec": {
      "name": "python3",
      "display_name": "Python 3"
    },
    "language_info": {
      "name": "python"
    }
  },
  "cells": [
    {
      "cell_type": "code",
      "source": [
        "\n",
        "import numpy as np\n",
        "\n",
        "import os\n",
        "import time"
      ],
      "metadata": {
        "id": "Y96YLhBEF55W"
      },
      "execution_count": 1,
      "outputs": []
    },
    {
      "cell_type": "code",
      "execution_count": 2,
      "metadata": {
        "id": "F1VfWHA8n4NC",
        "colab": {
          "base_uri": "https://localhost:8080/"
        },
        "outputId": "84e6fffb-8e67-463c-c8bf-9c336fe68a9f"
      },
      "outputs": [
        {
          "output_type": "stream",
          "name": "stdout",
          "text": [
            "Mounted at /content/drive/\n"
          ]
        }
      ],
      "source": [
        "from google.colab import drive\n",
        "drive.mount('/content/drive/', force_remount=True)"
      ]
    },
    {
      "cell_type": "code",
      "source": [
        "%cd /content/drive/MyDrive/datasets/"
      ],
      "metadata": {
        "colab": {
          "base_uri": "https://localhost:8080/"
        },
        "id": "LhfHrh2iGoD0",
        "outputId": "b132b72e-ad96-4fe9-93b8-5cc9eef1465c"
      },
      "execution_count": 3,
      "outputs": [
        {
          "output_type": "stream",
          "name": "stdout",
          "text": [
            "/content/drive/MyDrive/datasets\n"
          ]
        }
      ]
    },
    {
      "cell_type": "code",
      "source": [
        "cd  beer_data"
      ],
      "metadata": {
        "colab": {
          "base_uri": "https://localhost:8080/"
        },
        "id": "lL1UIalMaR-D",
        "outputId": "4fffa6dd-3fa6-4ae7-983d-18ca99889841"
      },
      "execution_count": 4,
      "outputs": [
        {
          "output_type": "stream",
          "name": "stdout",
          "text": [
            "/content/drive/MyDrive/datasets/beer_data\n"
          ]
        }
      ]
    },
    {
      "cell_type": "markdown",
      "source": [
        "**Reading a file using Modin Ray**"
      ],
      "metadata": {
        "id": "UXqF6lPqG2Do"
      }
    },
    {
      "cell_type": "code",
      "source": [],
      "metadata": {
        "id": "szEnGGxRw9ge"
      },
      "execution_count": 4,
      "outputs": []
    },
    {
      "cell_type": "code",
      "source": [
        "!pip install pandas==2.2.2\n",
        "!pip install modin[ray]==0.30.0"
      ],
      "metadata": {
        "colab": {
          "base_uri": "https://localhost:8080/"
        },
        "id": "pUm7T3AjqA4R",
        "outputId": "cb1c9e44-bd11-4fb4-ede1-b232f4bb2f4e"
      },
      "execution_count": 5,
      "outputs": [
        {
          "output_type": "stream",
          "name": "stdout",
          "text": [
            "Collecting pandas==2.2.2\n",
            "  Downloading pandas-2.2.2-cp310-cp310-manylinux_2_17_x86_64.manylinux2014_x86_64.whl (13.0 MB)\n",
            "\u001b[2K     \u001b[90m━━━━━━━━━━━━━━━━━━━━━━━━━━━━━━━━━━━━━━━━\u001b[0m \u001b[32m13.0/13.0 MB\u001b[0m \u001b[31m50.2 MB/s\u001b[0m eta \u001b[36m0:00:00\u001b[0m\n",
            "\u001b[?25hRequirement already satisfied: numpy>=1.22.4 in /usr/local/lib/python3.10/dist-packages (from pandas==2.2.2) (1.25.2)\n",
            "Requirement already satisfied: python-dateutil>=2.8.2 in /usr/local/lib/python3.10/dist-packages (from pandas==2.2.2) (2.8.2)\n",
            "Requirement already satisfied: pytz>=2020.1 in /usr/local/lib/python3.10/dist-packages (from pandas==2.2.2) (2023.4)\n",
            "Requirement already satisfied: tzdata>=2022.7 in /usr/local/lib/python3.10/dist-packages (from pandas==2.2.2) (2024.1)\n",
            "Requirement already satisfied: six>=1.5 in /usr/local/lib/python3.10/dist-packages (from python-dateutil>=2.8.2->pandas==2.2.2) (1.16.0)\n",
            "Installing collected packages: pandas\n",
            "  Attempting uninstall: pandas\n",
            "    Found existing installation: pandas 2.0.3\n",
            "    Uninstalling pandas-2.0.3:\n",
            "      Successfully uninstalled pandas-2.0.3\n",
            "\u001b[31mERROR: pip's dependency resolver does not currently take into account all the packages that are installed. This behaviour is the source of the following dependency conflicts.\n",
            "cudf-cu12 24.4.1 requires pandas<2.2.2dev0,>=2.0, but you have pandas 2.2.2 which is incompatible.\n",
            "google-colab 1.0.0 requires pandas==2.0.3, but you have pandas 2.2.2 which is incompatible.\u001b[0m\u001b[31m\n",
            "\u001b[0mSuccessfully installed pandas-2.2.2\n",
            "Collecting modin[ray]==0.30.0\n",
            "  Downloading modin-0.30.0-py3-none-any.whl (1.2 MB)\n",
            "\u001b[2K     \u001b[90m━━━━━━━━━━━━━━━━━━━━━━━━━━━━━━━━━━━━━━━━\u001b[0m \u001b[32m1.2/1.2 MB\u001b[0m \u001b[31m12.4 MB/s\u001b[0m eta \u001b[36m0:00:00\u001b[0m\n",
            "\u001b[?25hRequirement already satisfied: pandas<2.3,>=2.2 in /usr/local/lib/python3.10/dist-packages (from modin[ray]==0.30.0) (2.2.2)\n",
            "Requirement already satisfied: packaging>=21.0 in /usr/local/lib/python3.10/dist-packages (from modin[ray]==0.30.0) (24.0)\n",
            "Requirement already satisfied: numpy>=1.22.4 in /usr/local/lib/python3.10/dist-packages (from modin[ray]==0.30.0) (1.25.2)\n",
            "Requirement already satisfied: fsspec>=2022.11.0 in /usr/local/lib/python3.10/dist-packages (from modin[ray]==0.30.0) (2023.6.0)\n",
            "Requirement already satisfied: psutil>=5.8.0 in /usr/local/lib/python3.10/dist-packages (from modin[ray]==0.30.0) (5.9.5)\n",
            "Collecting ray!=2.5.0,>=2.1.0 (from modin[ray]==0.30.0)\n",
            "  Downloading ray-2.24.0-cp310-cp310-manylinux2014_x86_64.whl (65.9 MB)\n",
            "\u001b[2K     \u001b[90m━━━━━━━━━━━━━━━━━━━━━━━━━━━━━━━━━━━━━━━━\u001b[0m \u001b[32m65.9/65.9 MB\u001b[0m \u001b[31m9.3 MB/s\u001b[0m eta \u001b[36m0:00:00\u001b[0m\n",
            "\u001b[?25hRequirement already satisfied: pyarrow>=10.0.1 in /usr/local/lib/python3.10/dist-packages (from modin[ray]==0.30.0) (14.0.2)\n",
            "Requirement already satisfied: python-dateutil>=2.8.2 in /usr/local/lib/python3.10/dist-packages (from pandas<2.3,>=2.2->modin[ray]==0.30.0) (2.8.2)\n",
            "Requirement already satisfied: pytz>=2020.1 in /usr/local/lib/python3.10/dist-packages (from pandas<2.3,>=2.2->modin[ray]==0.30.0) (2023.4)\n",
            "Requirement already satisfied: tzdata>=2022.7 in /usr/local/lib/python3.10/dist-packages (from pandas<2.3,>=2.2->modin[ray]==0.30.0) (2024.1)\n",
            "Requirement already satisfied: click>=7.0 in /usr/local/lib/python3.10/dist-packages (from ray!=2.5.0,>=2.1.0->modin[ray]==0.30.0) (8.1.7)\n",
            "Requirement already satisfied: filelock in /usr/local/lib/python3.10/dist-packages (from ray!=2.5.0,>=2.1.0->modin[ray]==0.30.0) (3.14.0)\n",
            "Requirement already satisfied: jsonschema in /usr/local/lib/python3.10/dist-packages (from ray!=2.5.0,>=2.1.0->modin[ray]==0.30.0) (4.19.2)\n",
            "Requirement already satisfied: msgpack<2.0.0,>=1.0.0 in /usr/local/lib/python3.10/dist-packages (from ray!=2.5.0,>=2.1.0->modin[ray]==0.30.0) (1.0.8)\n",
            "Requirement already satisfied: protobuf!=3.19.5,>=3.15.3 in /usr/local/lib/python3.10/dist-packages (from ray!=2.5.0,>=2.1.0->modin[ray]==0.30.0) (3.20.3)\n",
            "Requirement already satisfied: pyyaml in /usr/local/lib/python3.10/dist-packages (from ray!=2.5.0,>=2.1.0->modin[ray]==0.30.0) (6.0.1)\n",
            "Requirement already satisfied: aiosignal in /usr/local/lib/python3.10/dist-packages (from ray!=2.5.0,>=2.1.0->modin[ray]==0.30.0) (1.3.1)\n",
            "Requirement already satisfied: frozenlist in /usr/local/lib/python3.10/dist-packages (from ray!=2.5.0,>=2.1.0->modin[ray]==0.30.0) (1.4.1)\n",
            "Requirement already satisfied: requests in /usr/local/lib/python3.10/dist-packages (from ray!=2.5.0,>=2.1.0->modin[ray]==0.30.0) (2.31.0)\n",
            "Requirement already satisfied: six>=1.5 in /usr/local/lib/python3.10/dist-packages (from python-dateutil>=2.8.2->pandas<2.3,>=2.2->modin[ray]==0.30.0) (1.16.0)\n",
            "Requirement already satisfied: attrs>=22.2.0 in /usr/local/lib/python3.10/dist-packages (from jsonschema->ray!=2.5.0,>=2.1.0->modin[ray]==0.30.0) (23.2.0)\n",
            "Requirement already satisfied: jsonschema-specifications>=2023.03.6 in /usr/local/lib/python3.10/dist-packages (from jsonschema->ray!=2.5.0,>=2.1.0->modin[ray]==0.30.0) (2023.12.1)\n",
            "Requirement already satisfied: referencing>=0.28.4 in /usr/local/lib/python3.10/dist-packages (from jsonschema->ray!=2.5.0,>=2.1.0->modin[ray]==0.30.0) (0.35.1)\n",
            "Requirement already satisfied: rpds-py>=0.7.1 in /usr/local/lib/python3.10/dist-packages (from jsonschema->ray!=2.5.0,>=2.1.0->modin[ray]==0.30.0) (0.18.1)\n",
            "Requirement already satisfied: charset-normalizer<4,>=2 in /usr/local/lib/python3.10/dist-packages (from requests->ray!=2.5.0,>=2.1.0->modin[ray]==0.30.0) (3.3.2)\n",
            "Requirement already satisfied: idna<4,>=2.5 in /usr/local/lib/python3.10/dist-packages (from requests->ray!=2.5.0,>=2.1.0->modin[ray]==0.30.0) (3.7)\n",
            "Requirement already satisfied: urllib3<3,>=1.21.1 in /usr/local/lib/python3.10/dist-packages (from requests->ray!=2.5.0,>=2.1.0->modin[ray]==0.30.0) (2.0.7)\n",
            "Requirement already satisfied: certifi>=2017.4.17 in /usr/local/lib/python3.10/dist-packages (from requests->ray!=2.5.0,>=2.1.0->modin[ray]==0.30.0) (2024.6.2)\n",
            "Installing collected packages: modin, ray\n",
            "Successfully installed modin-0.30.0 ray-2.24.0\n"
          ]
        }
      ]
    },
    {
      "cell_type": "code",
      "source": [
        "import ray\n",
        "import modin.pandas as pd_m\n",
        "import time  # Importing the time module to use time.time()\n",
        "\n",
        "# Printing versions of the used libraries\n",
        "print(\"Pandas version:\", pd_m.__version__)\n",
        "\n"
      ],
      "metadata": {
        "colab": {
          "base_uri": "https://localhost:8080/"
        },
        "id": "OXEU8oHqpRrO",
        "outputId": "410a0af1-e31a-4714-985a-eb71ef1eb6c8"
      },
      "execution_count": 6,
      "outputs": [
        {
          "output_type": "stream",
          "name": "stdout",
          "text": [
            "Pandas version: 0.30.0\n"
          ]
        }
      ]
    },
    {
      "cell_type": "code",
      "source": [
        "\n",
        "import os"
      ],
      "metadata": {
        "id": "SSgoj9GoxONg"
      },
      "execution_count": 7,
      "outputs": []
    },
    {
      "cell_type": "code",
      "source": [
        "results_loading = []"
      ],
      "metadata": {
        "id": "T0KQ8uEIyCgC"
      },
      "execution_count": 8,
      "outputs": []
    },
    {
      "cell_type": "code",
      "source": [
        "# Shutting down any existing Ray sessions to clean up previous states\n",
        " # Initializing Ray to handle parallel tasks\n",
        "\n"
      ],
      "metadata": {
        "id": "Ka4TA2xcy7gU"
      },
      "execution_count": 9,
      "outputs": []
    },
    {
      "cell_type": "code",
      "source": [
        "ray.shutdown()\n",
        "ray.init(num_cpus=2)\n",
        "# Loading the dataset\n",
        "start_time = time.time()\n",
        "df = pd_m.read_csv(\"brewery_data.csv\")\n",
        "# Starting a timer to measure data loading time\n",
        "\n",
        "# Calculating and printing the time taken to load the data\n",
        "elapsed_time = time.time() - start_time\n",
        "print(\"--- %s seconds ---\" % elapsed_time)\n",
        "\n",
        "# Adding the loading time to the results list\n",
        "results_loading.append({\"lib\": \"Modin with Ray\", \"time\": elapsed_time})\n",
        "\n",
        "# Displaying the first few rows of the dataframe to verify successful loading\n",
        "print(df.head())\n",
        "\n",
        "ray.shutdown()\n"
      ],
      "metadata": {
        "colab": {
          "base_uri": "https://localhost:8080/"
        },
        "id": "Kv3B0W-4zyw9",
        "outputId": "1307032c-e4bf-4f0e-9ff7-3616e5659939"
      },
      "execution_count": 10,
      "outputs": [
        {
          "output_type": "stream",
          "name": "stderr",
          "text": [
            "2024-06-09 16:28:44,367\tINFO worker.py:1753 -- Started a local Ray instance.\n"
          ]
        },
        {
          "output_type": "stream",
          "name": "stdout",
          "text": [
            "--- 109.15634894371033 seconds ---\n",
            "   Batch_ID            Brew_Date  Beer_Style   SKU      Location  \\\n",
            "0   7870796  2020-01-01 00:00:19  Wheat Beer  Kegs    Whitefield   \n",
            "1   9810411  2020-01-01 00:00:31        Sour  Kegs    Whitefield   \n",
            "2   2623342  2020-01-01 00:00:40  Wheat Beer  Kegs   Malleswaram   \n",
            "3   8114651  2020-01-01 00:01:37         Ale  Kegs   Rajajinagar   \n",
            "4   4579587  2020-01-01 00:01:43       Stout  Cans  Marathahalli   \n",
            "\n",
            "   Fermentation_Time  Temperature  pH_Level   Gravity  Alcohol_Content  \\\n",
            "0                 16    24.204251  5.289845  1.039504         5.370842   \n",
            "1                 13    18.086763  5.275643  1.059819         5.096053   \n",
            "2                 12    15.539333  4.778016  1.037476         4.824737   \n",
            "3                 17    16.418489  5.345261  1.052431         5.509243   \n",
            "4                 18    19.144908  4.861854  1.054296         5.133625   \n",
            "\n",
            "   Bitterness  Color Ingredient_Ratio  Volume_Produced   Total_Sales  \\\n",
            "0          20      5      1:0.32:0.16             4666   2664.759345   \n",
            "1          36     14      1:0.39:0.24              832   9758.801062   \n",
            "2          30     10      1:0.35:0.16             2115  11721.087016   \n",
            "3          48     18      1:0.35:0.15             3173  12050.177463   \n",
            "4          57     13      1:0.46:0.11             4449   5515.077465   \n",
            "\n",
            "   Quality_Score  Brewhouse_Efficiency  Loss_During_Brewing  \\\n",
            "0       8.577016             89.195882             4.104988   \n",
            "1       7.420541             72.480915             2.676528   \n",
            "2       8.451365             86.322144             3.299894   \n",
            "3       9.671859             83.094940             2.136055   \n",
            "4       7.895334             88.625833             4.491724   \n",
            "\n",
            "   Loss_During_Fermentation  Loss_During_Bottling_Kegging  \n",
            "0                  3.235485                      4.663204  \n",
            "1                  4.246129                      2.044358  \n",
            "2                  3.109440                      3.033880  \n",
            "3                  4.634254                      1.489889  \n",
            "4                  2.183389                      2.990630  \n"
          ]
        }
      ]
    },
    {
      "cell_type": "code",
      "source": [
        "\n",
        "print(results_loading)"
      ],
      "metadata": {
        "colab": {
          "base_uri": "https://localhost:8080/"
        },
        "id": "FgRvO93v0sxg",
        "outputId": "f808e27a-a809-4c36-fbfc-c7a06f5310b1"
      },
      "execution_count": 11,
      "outputs": [
        {
          "output_type": "stream",
          "name": "stdout",
          "text": [
            "[{'lib': 'Modin with Ray', 'time': 109.15634894371033}]\n"
          ]
        }
      ]
    },
    {
      "cell_type": "code",
      "source": [
        "import modin.config as modin_cfg\n",
        "print(\"Engine used:\", modin_cfg.Engine.get())"
      ],
      "metadata": {
        "colab": {
          "base_uri": "https://localhost:8080/"
        },
        "id": "WqiL-cLYwpxY",
        "outputId": "b41cc3c8-524b-476f-f4e4-3900d8aa09ba"
      },
      "execution_count": 12,
      "outputs": [
        {
          "output_type": "stream",
          "name": "stdout",
          "text": [
            "Engine used: Ray\n"
          ]
        }
      ]
    },
    {
      "cell_type": "markdown",
      "source": [
        "**Reading a file using Dask**"
      ],
      "metadata": {
        "id": "G1pH8NC_VoAH"
      }
    },
    {
      "cell_type": "code",
      "source": [
        "import dask.dataframe as dd\n",
        "# Initialize the time recording\n",
        "start_time = time.time()\n",
        "\n",
        "# Load the dataset using Dask\n",
        "data2 = dd.read_csv('brewery_data.csv')\n",
        "\n",
        "# Compute the dataframe to trigger actual computation in Dask\n",
        "data2.compute()\n",
        "\n",
        "# Calculate the elapsed time and print it\n",
        "elapsed_time = time.time() - start_time\n",
        "print(\"--- %s seconds ---\" % elapsed_time)\n",
        "\n",
        "# Append the time taken to load the data to results_loading\n",
        "results_loading.append({\"lib\": \"sec_dask\", \"time\": elapsed_time})"
      ],
      "metadata": {
        "colab": {
          "base_uri": "https://localhost:8080/"
        },
        "id": "q1JKS-KVVwqD",
        "outputId": "99715890-a807-401f-fb1f-00c2875b24d6"
      },
      "execution_count": 13,
      "outputs": [
        {
          "output_type": "stream",
          "name": "stdout",
          "text": [
            "--- 56.47833776473999 seconds ---\n"
          ]
        }
      ]
    },
    {
      "cell_type": "code",
      "source": [
        "data2.npartitions"
      ],
      "metadata": {
        "colab": {
          "base_uri": "https://localhost:8080/"
        },
        "id": "LyDg6NszjTJM",
        "outputId": "f685e222-815c-4923-f118-555118c1ed6f"
      },
      "execution_count": 14,
      "outputs": [
        {
          "output_type": "execute_result",
          "data": {
            "text/plain": [
              "40"
            ]
          },
          "metadata": {},
          "execution_count": 14
        }
      ]
    },
    {
      "cell_type": "markdown",
      "source": [
        "**Reading a file using Pandas**"
      ],
      "metadata": {
        "id": "_3KLyYipZ4s5"
      }
    },
    {
      "cell_type": "code",
      "source": [
        "!pip install --upgrade pandas\n",
        "\n",
        "import pandas as pd"
      ],
      "metadata": {
        "colab": {
          "base_uri": "https://localhost:8080/"
        },
        "id": "DpYMKjHyJRDK",
        "outputId": "854ad8e6-1b3d-4f79-8481-1ceed9623788"
      },
      "execution_count": 15,
      "outputs": [
        {
          "output_type": "stream",
          "name": "stdout",
          "text": [
            "Requirement already satisfied: pandas in /usr/local/lib/python3.10/dist-packages (2.2.2)\n",
            "Requirement already satisfied: numpy>=1.22.4 in /usr/local/lib/python3.10/dist-packages (from pandas) (1.25.2)\n",
            "Requirement already satisfied: python-dateutil>=2.8.2 in /usr/local/lib/python3.10/dist-packages (from pandas) (2.8.2)\n",
            "Requirement already satisfied: pytz>=2020.1 in /usr/local/lib/python3.10/dist-packages (from pandas) (2023.4)\n",
            "Requirement already satisfied: tzdata>=2022.7 in /usr/local/lib/python3.10/dist-packages (from pandas) (2024.1)\n",
            "Requirement already satisfied: six>=1.5 in /usr/local/lib/python3.10/dist-packages (from python-dateutil>=2.8.2->pandas) (1.16.0)\n"
          ]
        }
      ]
    },
    {
      "cell_type": "code",
      "source": [
        "\n",
        "start_time = time.time()\n",
        "%time  data = pd.read_csv('brewery_data.csv')\n",
        "results_loading.append({\"lib\":\"sec_pd\",\"time\":float(\"{}\".format(time.time() - start_time))})\n",
        "sec_pd=print(\"--- %s seconds ---\" % (time.time() - start_time))"
      ],
      "metadata": {
        "id": "r8BRjjlZNhGR",
        "colab": {
          "base_uri": "https://localhost:8080/"
        },
        "outputId": "2a08127e-22f9-4234-f168-dea4419b87f0"
      },
      "execution_count": 16,
      "outputs": [
        {
          "output_type": "stream",
          "name": "stdout",
          "text": [
            "CPU times: user 48.6 s, sys: 8.27 s, total: 56.9 s\n",
            "Wall time: 1min 8s\n",
            "--- 68.6959171295166 seconds ---\n"
          ]
        }
      ]
    },
    {
      "cell_type": "code",
      "source": [
        "data.head()"
      ],
      "metadata": {
        "colab": {
          "base_uri": "https://localhost:8080/",
          "height": 313
        },
        "id": "P_vET9hlCc7f",
        "outputId": "245caf89-32c5-4249-d4b7-0de7bec0f11c"
      },
      "execution_count": 17,
      "outputs": [
        {
          "output_type": "execute_result",
          "data": {
            "text/plain": [
              "   Batch_ID            Brew_Date  Beer_Style   SKU      Location  \\\n",
              "0   7870796  2020-01-01 00:00:19  Wheat Beer  Kegs    Whitefield   \n",
              "1   9810411  2020-01-01 00:00:31        Sour  Kegs    Whitefield   \n",
              "2   2623342  2020-01-01 00:00:40  Wheat Beer  Kegs   Malleswaram   \n",
              "3   8114651  2020-01-01 00:01:37         Ale  Kegs   Rajajinagar   \n",
              "4   4579587  2020-01-01 00:01:43       Stout  Cans  Marathahalli   \n",
              "\n",
              "   Fermentation_Time  Temperature  pH_Level   Gravity  Alcohol_Content  \\\n",
              "0                 16    24.204251  5.289845  1.039504         5.370842   \n",
              "1                 13    18.086763  5.275643  1.059819         5.096053   \n",
              "2                 12    15.539333  4.778016  1.037476         4.824737   \n",
              "3                 17    16.418489  5.345261  1.052431         5.509243   \n",
              "4                 18    19.144908  4.861854  1.054296         5.133625   \n",
              "\n",
              "   Bitterness  Color Ingredient_Ratio  Volume_Produced   Total_Sales  \\\n",
              "0          20      5      1:0.32:0.16             4666   2664.759345   \n",
              "1          36     14      1:0.39:0.24              832   9758.801062   \n",
              "2          30     10      1:0.35:0.16             2115  11721.087016   \n",
              "3          48     18      1:0.35:0.15             3173  12050.177463   \n",
              "4          57     13      1:0.46:0.11             4449   5515.077465   \n",
              "\n",
              "   Quality_Score  Brewhouse_Efficiency  Loss_During_Brewing  \\\n",
              "0       8.577016             89.195882             4.104988   \n",
              "1       7.420541             72.480915             2.676528   \n",
              "2       8.451365             86.322144             3.299894   \n",
              "3       9.671859             83.094940             2.136055   \n",
              "4       7.895334             88.625833             4.491724   \n",
              "\n",
              "   Loss_During_Fermentation  Loss_During_Bottling_Kegging  \n",
              "0                  3.235485                      4.663204  \n",
              "1                  4.246129                      2.044358  \n",
              "2                  3.109440                      3.033880  \n",
              "3                  4.634254                      1.489889  \n",
              "4                  2.183389                      2.990630  "
            ],
            "text/html": [
              "\n",
              "  <div id=\"df-ef4d6879-c98d-43ed-bd8f-8d883db6dba9\" class=\"colab-df-container\">\n",
              "    <div>\n",
              "<style scoped>\n",
              "    .dataframe tbody tr th:only-of-type {\n",
              "        vertical-align: middle;\n",
              "    }\n",
              "\n",
              "    .dataframe tbody tr th {\n",
              "        vertical-align: top;\n",
              "    }\n",
              "\n",
              "    .dataframe thead th {\n",
              "        text-align: right;\n",
              "    }\n",
              "</style>\n",
              "<table border=\"1\" class=\"dataframe\">\n",
              "  <thead>\n",
              "    <tr style=\"text-align: right;\">\n",
              "      <th></th>\n",
              "      <th>Batch_ID</th>\n",
              "      <th>Brew_Date</th>\n",
              "      <th>Beer_Style</th>\n",
              "      <th>SKU</th>\n",
              "      <th>Location</th>\n",
              "      <th>Fermentation_Time</th>\n",
              "      <th>Temperature</th>\n",
              "      <th>pH_Level</th>\n",
              "      <th>Gravity</th>\n",
              "      <th>Alcohol_Content</th>\n",
              "      <th>Bitterness</th>\n",
              "      <th>Color</th>\n",
              "      <th>Ingredient_Ratio</th>\n",
              "      <th>Volume_Produced</th>\n",
              "      <th>Total_Sales</th>\n",
              "      <th>Quality_Score</th>\n",
              "      <th>Brewhouse_Efficiency</th>\n",
              "      <th>Loss_During_Brewing</th>\n",
              "      <th>Loss_During_Fermentation</th>\n",
              "      <th>Loss_During_Bottling_Kegging</th>\n",
              "    </tr>\n",
              "  </thead>\n",
              "  <tbody>\n",
              "    <tr>\n",
              "      <th>0</th>\n",
              "      <td>7870796</td>\n",
              "      <td>2020-01-01 00:00:19</td>\n",
              "      <td>Wheat Beer</td>\n",
              "      <td>Kegs</td>\n",
              "      <td>Whitefield</td>\n",
              "      <td>16</td>\n",
              "      <td>24.204251</td>\n",
              "      <td>5.289845</td>\n",
              "      <td>1.039504</td>\n",
              "      <td>5.370842</td>\n",
              "      <td>20</td>\n",
              "      <td>5</td>\n",
              "      <td>1:0.32:0.16</td>\n",
              "      <td>4666</td>\n",
              "      <td>2664.759345</td>\n",
              "      <td>8.577016</td>\n",
              "      <td>89.195882</td>\n",
              "      <td>4.104988</td>\n",
              "      <td>3.235485</td>\n",
              "      <td>4.663204</td>\n",
              "    </tr>\n",
              "    <tr>\n",
              "      <th>1</th>\n",
              "      <td>9810411</td>\n",
              "      <td>2020-01-01 00:00:31</td>\n",
              "      <td>Sour</td>\n",
              "      <td>Kegs</td>\n",
              "      <td>Whitefield</td>\n",
              "      <td>13</td>\n",
              "      <td>18.086763</td>\n",
              "      <td>5.275643</td>\n",
              "      <td>1.059819</td>\n",
              "      <td>5.096053</td>\n",
              "      <td>36</td>\n",
              "      <td>14</td>\n",
              "      <td>1:0.39:0.24</td>\n",
              "      <td>832</td>\n",
              "      <td>9758.801062</td>\n",
              "      <td>7.420541</td>\n",
              "      <td>72.480915</td>\n",
              "      <td>2.676528</td>\n",
              "      <td>4.246129</td>\n",
              "      <td>2.044358</td>\n",
              "    </tr>\n",
              "    <tr>\n",
              "      <th>2</th>\n",
              "      <td>2623342</td>\n",
              "      <td>2020-01-01 00:00:40</td>\n",
              "      <td>Wheat Beer</td>\n",
              "      <td>Kegs</td>\n",
              "      <td>Malleswaram</td>\n",
              "      <td>12</td>\n",
              "      <td>15.539333</td>\n",
              "      <td>4.778016</td>\n",
              "      <td>1.037476</td>\n",
              "      <td>4.824737</td>\n",
              "      <td>30</td>\n",
              "      <td>10</td>\n",
              "      <td>1:0.35:0.16</td>\n",
              "      <td>2115</td>\n",
              "      <td>11721.087016</td>\n",
              "      <td>8.451365</td>\n",
              "      <td>86.322144</td>\n",
              "      <td>3.299894</td>\n",
              "      <td>3.109440</td>\n",
              "      <td>3.033880</td>\n",
              "    </tr>\n",
              "    <tr>\n",
              "      <th>3</th>\n",
              "      <td>8114651</td>\n",
              "      <td>2020-01-01 00:01:37</td>\n",
              "      <td>Ale</td>\n",
              "      <td>Kegs</td>\n",
              "      <td>Rajajinagar</td>\n",
              "      <td>17</td>\n",
              "      <td>16.418489</td>\n",
              "      <td>5.345261</td>\n",
              "      <td>1.052431</td>\n",
              "      <td>5.509243</td>\n",
              "      <td>48</td>\n",
              "      <td>18</td>\n",
              "      <td>1:0.35:0.15</td>\n",
              "      <td>3173</td>\n",
              "      <td>12050.177463</td>\n",
              "      <td>9.671859</td>\n",
              "      <td>83.094940</td>\n",
              "      <td>2.136055</td>\n",
              "      <td>4.634254</td>\n",
              "      <td>1.489889</td>\n",
              "    </tr>\n",
              "    <tr>\n",
              "      <th>4</th>\n",
              "      <td>4579587</td>\n",
              "      <td>2020-01-01 00:01:43</td>\n",
              "      <td>Stout</td>\n",
              "      <td>Cans</td>\n",
              "      <td>Marathahalli</td>\n",
              "      <td>18</td>\n",
              "      <td>19.144908</td>\n",
              "      <td>4.861854</td>\n",
              "      <td>1.054296</td>\n",
              "      <td>5.133625</td>\n",
              "      <td>57</td>\n",
              "      <td>13</td>\n",
              "      <td>1:0.46:0.11</td>\n",
              "      <td>4449</td>\n",
              "      <td>5515.077465</td>\n",
              "      <td>7.895334</td>\n",
              "      <td>88.625833</td>\n",
              "      <td>4.491724</td>\n",
              "      <td>2.183389</td>\n",
              "      <td>2.990630</td>\n",
              "    </tr>\n",
              "  </tbody>\n",
              "</table>\n",
              "</div>\n",
              "    <div class=\"colab-df-buttons\">\n",
              "\n",
              "  <div class=\"colab-df-container\">\n",
              "    <button class=\"colab-df-convert\" onclick=\"convertToInteractive('df-ef4d6879-c98d-43ed-bd8f-8d883db6dba9')\"\n",
              "            title=\"Convert this dataframe to an interactive table.\"\n",
              "            style=\"display:none;\">\n",
              "\n",
              "  <svg xmlns=\"http://www.w3.org/2000/svg\" height=\"24px\" viewBox=\"0 -960 960 960\">\n",
              "    <path d=\"M120-120v-720h720v720H120Zm60-500h600v-160H180v160Zm220 220h160v-160H400v160Zm0 220h160v-160H400v160ZM180-400h160v-160H180v160Zm440 0h160v-160H620v160ZM180-180h160v-160H180v160Zm440 0h160v-160H620v160Z\"/>\n",
              "  </svg>\n",
              "    </button>\n",
              "\n",
              "  <style>\n",
              "    .colab-df-container {\n",
              "      display:flex;\n",
              "      gap: 12px;\n",
              "    }\n",
              "\n",
              "    .colab-df-convert {\n",
              "      background-color: #E8F0FE;\n",
              "      border: none;\n",
              "      border-radius: 50%;\n",
              "      cursor: pointer;\n",
              "      display: none;\n",
              "      fill: #1967D2;\n",
              "      height: 32px;\n",
              "      padding: 0 0 0 0;\n",
              "      width: 32px;\n",
              "    }\n",
              "\n",
              "    .colab-df-convert:hover {\n",
              "      background-color: #E2EBFA;\n",
              "      box-shadow: 0px 1px 2px rgba(60, 64, 67, 0.3), 0px 1px 3px 1px rgba(60, 64, 67, 0.15);\n",
              "      fill: #174EA6;\n",
              "    }\n",
              "\n",
              "    .colab-df-buttons div {\n",
              "      margin-bottom: 4px;\n",
              "    }\n",
              "\n",
              "    [theme=dark] .colab-df-convert {\n",
              "      background-color: #3B4455;\n",
              "      fill: #D2E3FC;\n",
              "    }\n",
              "\n",
              "    [theme=dark] .colab-df-convert:hover {\n",
              "      background-color: #434B5C;\n",
              "      box-shadow: 0px 1px 3px 1px rgba(0, 0, 0, 0.15);\n",
              "      filter: drop-shadow(0px 1px 2px rgba(0, 0, 0, 0.3));\n",
              "      fill: #FFFFFF;\n",
              "    }\n",
              "  </style>\n",
              "\n",
              "    <script>\n",
              "      const buttonEl =\n",
              "        document.querySelector('#df-ef4d6879-c98d-43ed-bd8f-8d883db6dba9 button.colab-df-convert');\n",
              "      buttonEl.style.display =\n",
              "        google.colab.kernel.accessAllowed ? 'block' : 'none';\n",
              "\n",
              "      async function convertToInteractive(key) {\n",
              "        const element = document.querySelector('#df-ef4d6879-c98d-43ed-bd8f-8d883db6dba9');\n",
              "        const dataTable =\n",
              "          await google.colab.kernel.invokeFunction('convertToInteractive',\n",
              "                                                    [key], {});\n",
              "        if (!dataTable) return;\n",
              "\n",
              "        const docLinkHtml = 'Like what you see? Visit the ' +\n",
              "          '<a target=\"_blank\" href=https://colab.research.google.com/notebooks/data_table.ipynb>data table notebook</a>'\n",
              "          + ' to learn more about interactive tables.';\n",
              "        element.innerHTML = '';\n",
              "        dataTable['output_type'] = 'display_data';\n",
              "        await google.colab.output.renderOutput(dataTable, element);\n",
              "        const docLink = document.createElement('div');\n",
              "        docLink.innerHTML = docLinkHtml;\n",
              "        element.appendChild(docLink);\n",
              "      }\n",
              "    </script>\n",
              "  </div>\n",
              "\n",
              "\n",
              "<div id=\"df-e488b4a0-b2ac-46e9-8e23-2b9a979f751b\">\n",
              "  <button class=\"colab-df-quickchart\" onclick=\"quickchart('df-e488b4a0-b2ac-46e9-8e23-2b9a979f751b')\"\n",
              "            title=\"Suggest charts\"\n",
              "            style=\"display:none;\">\n",
              "\n",
              "<svg xmlns=\"http://www.w3.org/2000/svg\" height=\"24px\"viewBox=\"0 0 24 24\"\n",
              "     width=\"24px\">\n",
              "    <g>\n",
              "        <path d=\"M19 3H5c-1.1 0-2 .9-2 2v14c0 1.1.9 2 2 2h14c1.1 0 2-.9 2-2V5c0-1.1-.9-2-2-2zM9 17H7v-7h2v7zm4 0h-2V7h2v10zm4 0h-2v-4h2v4z\"/>\n",
              "    </g>\n",
              "</svg>\n",
              "  </button>\n",
              "\n",
              "<style>\n",
              "  .colab-df-quickchart {\n",
              "      --bg-color: #E8F0FE;\n",
              "      --fill-color: #1967D2;\n",
              "      --hover-bg-color: #E2EBFA;\n",
              "      --hover-fill-color: #174EA6;\n",
              "      --disabled-fill-color: #AAA;\n",
              "      --disabled-bg-color: #DDD;\n",
              "  }\n",
              "\n",
              "  [theme=dark] .colab-df-quickchart {\n",
              "      --bg-color: #3B4455;\n",
              "      --fill-color: #D2E3FC;\n",
              "      --hover-bg-color: #434B5C;\n",
              "      --hover-fill-color: #FFFFFF;\n",
              "      --disabled-bg-color: #3B4455;\n",
              "      --disabled-fill-color: #666;\n",
              "  }\n",
              "\n",
              "  .colab-df-quickchart {\n",
              "    background-color: var(--bg-color);\n",
              "    border: none;\n",
              "    border-radius: 50%;\n",
              "    cursor: pointer;\n",
              "    display: none;\n",
              "    fill: var(--fill-color);\n",
              "    height: 32px;\n",
              "    padding: 0;\n",
              "    width: 32px;\n",
              "  }\n",
              "\n",
              "  .colab-df-quickchart:hover {\n",
              "    background-color: var(--hover-bg-color);\n",
              "    box-shadow: 0 1px 2px rgba(60, 64, 67, 0.3), 0 1px 3px 1px rgba(60, 64, 67, 0.15);\n",
              "    fill: var(--button-hover-fill-color);\n",
              "  }\n",
              "\n",
              "  .colab-df-quickchart-complete:disabled,\n",
              "  .colab-df-quickchart-complete:disabled:hover {\n",
              "    background-color: var(--disabled-bg-color);\n",
              "    fill: var(--disabled-fill-color);\n",
              "    box-shadow: none;\n",
              "  }\n",
              "\n",
              "  .colab-df-spinner {\n",
              "    border: 2px solid var(--fill-color);\n",
              "    border-color: transparent;\n",
              "    border-bottom-color: var(--fill-color);\n",
              "    animation:\n",
              "      spin 1s steps(1) infinite;\n",
              "  }\n",
              "\n",
              "  @keyframes spin {\n",
              "    0% {\n",
              "      border-color: transparent;\n",
              "      border-bottom-color: var(--fill-color);\n",
              "      border-left-color: var(--fill-color);\n",
              "    }\n",
              "    20% {\n",
              "      border-color: transparent;\n",
              "      border-left-color: var(--fill-color);\n",
              "      border-top-color: var(--fill-color);\n",
              "    }\n",
              "    30% {\n",
              "      border-color: transparent;\n",
              "      border-left-color: var(--fill-color);\n",
              "      border-top-color: var(--fill-color);\n",
              "      border-right-color: var(--fill-color);\n",
              "    }\n",
              "    40% {\n",
              "      border-color: transparent;\n",
              "      border-right-color: var(--fill-color);\n",
              "      border-top-color: var(--fill-color);\n",
              "    }\n",
              "    60% {\n",
              "      border-color: transparent;\n",
              "      border-right-color: var(--fill-color);\n",
              "    }\n",
              "    80% {\n",
              "      border-color: transparent;\n",
              "      border-right-color: var(--fill-color);\n",
              "      border-bottom-color: var(--fill-color);\n",
              "    }\n",
              "    90% {\n",
              "      border-color: transparent;\n",
              "      border-bottom-color: var(--fill-color);\n",
              "    }\n",
              "  }\n",
              "</style>\n",
              "\n",
              "  <script>\n",
              "    async function quickchart(key) {\n",
              "      const quickchartButtonEl =\n",
              "        document.querySelector('#' + key + ' button');\n",
              "      quickchartButtonEl.disabled = true;  // To prevent multiple clicks.\n",
              "      quickchartButtonEl.classList.add('colab-df-spinner');\n",
              "      try {\n",
              "        const charts = await google.colab.kernel.invokeFunction(\n",
              "            'suggestCharts', [key], {});\n",
              "      } catch (error) {\n",
              "        console.error('Error during call to suggestCharts:', error);\n",
              "      }\n",
              "      quickchartButtonEl.classList.remove('colab-df-spinner');\n",
              "      quickchartButtonEl.classList.add('colab-df-quickchart-complete');\n",
              "    }\n",
              "    (() => {\n",
              "      let quickchartButtonEl =\n",
              "        document.querySelector('#df-e488b4a0-b2ac-46e9-8e23-2b9a979f751b button');\n",
              "      quickchartButtonEl.style.display =\n",
              "        google.colab.kernel.accessAllowed ? 'block' : 'none';\n",
              "    })();\n",
              "  </script>\n",
              "</div>\n",
              "    </div>\n",
              "  </div>\n"
            ],
            "application/vnd.google.colaboratory.intrinsic+json": {
              "type": "dataframe",
              "variable_name": "data"
            }
          },
          "metadata": {},
          "execution_count": 17
        }
      ]
    },
    {
      "cell_type": "code",
      "source": [
        "data.shape"
      ],
      "metadata": {
        "colab": {
          "base_uri": "https://localhost:8080/"
        },
        "id": "J3khmOTejirE",
        "outputId": "26541511-a1c7-4507-a65a-57c23ac197ed"
      },
      "execution_count": 18,
      "outputs": [
        {
          "output_type": "execute_result",
          "data": {
            "text/plain": [
              "(10000000, 20)"
            ]
          },
          "metadata": {},
          "execution_count": 18
        }
      ]
    },
    {
      "cell_type": "code",
      "source": [
        "import pandas as pd\n",
        "import matplotlib.pyplot as plt"
      ],
      "metadata": {
        "id": "BWUNqUzTGDdG"
      },
      "execution_count": 19,
      "outputs": []
    },
    {
      "cell_type": "code",
      "source": [
        "# results_loading = [\n",
        "#     {\"lib\": \"sec_pd\", \"time\": 96.02150058746338},\n",
        "#     {'lib': 'Modin with Ray', 'time': 73.95907878875732},\n",
        "#     {\"lib\": \"sec_dask\", \"time\": 64.78524565696716}\n",
        "# ]"
      ],
      "metadata": {
        "id": "jHTp_rmwF3uz"
      },
      "execution_count": 20,
      "outputs": []
    },
    {
      "cell_type": "code",
      "source": [
        "\n",
        "# Ensuring enough colors are available for the number of libraries\n",
        "colors = ['green', 'blue', 'purple', 'teal', 'brown']  # Added 'brown' for safety\n",
        "\n",
        "# Create DataFrame from the results_loading list\n",
        "df = pd.DataFrame(results_loading)\n",
        "\n",
        "# Plotting\n",
        "plt.figure(figsize=(10, 6))  # Optional: Adjusts the figure size for clarity\n",
        "bars = plt.bar(df['lib'], df['time'], color=colors[:len(df)])  # Use slicing to match the number of items\n",
        "plt.bar_label(bars, padding=3)  # Adds labels to the bars, with padding for better visibility\n",
        "plt.xlabel('Library', fontsize=14)\n",
        "plt.ylabel('Time (seconds)', fontsize=10)  # Updated label for clarity\n",
        "plt.title('Comparison of Library Load Times')  # Optional: Adds a title to the plot\n",
        "plt.show()"
      ],
      "metadata": {
        "colab": {
          "base_uri": "https://localhost:8080/",
          "height": 569
        },
        "id": "i-aYb8wNF6oz",
        "outputId": "5f581d37-e383-4406-9e09-c348b70ea987"
      },
      "execution_count": 21,
      "outputs": [
        {
          "output_type": "display_data",
          "data": {
            "text/plain": [
              "<Figure size 1000x600 with 1 Axes>"
            ],
            "image/png": "[encoded data removed]"
          },
          "metadata": {}
        }
      ]
    },
    {
      "cell_type": "code",
      "source": [
        "len(data.index)"
      ],
      "metadata": {
        "colab": {
          "base_uri": "https://localhost:8080/"
        },
        "id": "EZpMIpbwU6oS",
        "outputId": "972d7a33-84d9-4909-96ed-87f559d77011"
      },
      "execution_count": 22,
      "outputs": [
        {
          "output_type": "execute_result",
          "data": {
            "text/plain": [
              "10000000"
            ]
          },
          "metadata": {},
          "execution_count": 22
        }
      ]
    },
    {
      "cell_type": "code",
      "source": [
        "len(data.columns)"
      ],
      "metadata": {
        "colab": {
          "base_uri": "https://localhost:8080/"
        },
        "id": "GRaIICLmXgM7",
        "outputId": "84a5143c-73c7-47eb-bacb-62896c929c09"
      },
      "execution_count": 23,
      "outputs": [
        {
          "output_type": "execute_result",
          "data": {
            "text/plain": [
              "20"
            ]
          },
          "metadata": {},
          "execution_count": 23
        }
      ]
    },
    {
      "cell_type": "code",
      "source": [
        "# remove special character\n",
        "data.columns=data.columns.str.replace('[#,@,&]','')"
      ],
      "metadata": {
        "id": "ZXh_SOEGXlv_"
      },
      "execution_count": 24,
      "outputs": []
    },
    {
      "cell_type": "code",
      "source": [
        "data.head()"
      ],
      "metadata": {
        "colab": {
          "base_uri": "https://localhost:8080/",
          "height": 313
        },
        "id": "Aya0hZtOXyDx",
        "outputId": "98ab3a09-9f15-4e5d-91c1-6b0b8562fae9"
      },
      "execution_count": 25,
      "outputs": [
        {
          "output_type": "execute_result",
          "data": {
            "text/plain": [
              "   Batch_ID            Brew_Date  Beer_Style   SKU      Location  \\\n",
              "0   7870796  2020-01-01 00:00:19  Wheat Beer  Kegs    Whitefield   \n",
              "1   9810411  2020-01-01 00:00:31        Sour  Kegs    Whitefield   \n",
              "2   2623342  2020-01-01 00:00:40  Wheat Beer  Kegs   Malleswaram   \n",
              "3   8114651  2020-01-01 00:01:37         Ale  Kegs   Rajajinagar   \n",
              "4   4579587  2020-01-01 00:01:43       Stout  Cans  Marathahalli   \n",
              "\n",
              "   Fermentation_Time  Temperature  pH_Level   Gravity  Alcohol_Content  \\\n",
              "0                 16    24.204251  5.289845  1.039504         5.370842   \n",
              "1                 13    18.086763  5.275643  1.059819         5.096053   \n",
              "2                 12    15.539333  4.778016  1.037476         4.824737   \n",
              "3                 17    16.418489  5.345261  1.052431         5.509243   \n",
              "4                 18    19.144908  4.861854  1.054296         5.133625   \n",
              "\n",
              "   Bitterness  Color Ingredient_Ratio  Volume_Produced   Total_Sales  \\\n",
              "0          20      5      1:0.32:0.16             4666   2664.759345   \n",
              "1          36     14      1:0.39:0.24              832   9758.801062   \n",
              "2          30     10      1:0.35:0.16             2115  11721.087016   \n",
              "3          48     18      1:0.35:0.15             3173  12050.177463   \n",
              "4          57     13      1:0.46:0.11             4449   5515.077465   \n",
              "\n",
              "   Quality_Score  Brewhouse_Efficiency  Loss_During_Brewing  \\\n",
              "0       8.577016             89.195882             4.104988   \n",
              "1       7.420541             72.480915             2.676528   \n",
              "2       8.451365             86.322144             3.299894   \n",
              "3       9.671859             83.094940             2.136055   \n",
              "4       7.895334             88.625833             4.491724   \n",
              "\n",
              "   Loss_During_Fermentation  Loss_During_Bottling_Kegging  \n",
              "0                  3.235485                      4.663204  \n",
              "1                  4.246129                      2.044358  \n",
              "2                  3.109440                      3.033880  \n",
              "3                  4.634254                      1.489889  \n",
              "4                  2.183389                      2.990630  "
            ],
            "text/html": [
              "\n",
              "  <div id=\"df-8805b2ec-1588-4436-a26a-68096b5ba547\" class=\"colab-df-container\">\n",
              "    <div>\n",
              "<style scoped>\n",
              "    .dataframe tbody tr th:only-of-type {\n",
              "        vertical-align: middle;\n",
              "    }\n",
              "\n",
              "    .dataframe tbody tr th {\n",
              "        vertical-align: top;\n",
              "    }\n",
              "\n",
              "    .dataframe thead th {\n",
              "        text-align: right;\n",
              "    }\n",
              "</style>\n",
              "<table border=\"1\" class=\"dataframe\">\n",
              "  <thead>\n",
              "    <tr style=\"text-align: right;\">\n",
              "      <th></th>\n",
              "      <th>Batch_ID</th>\n",
              "      <th>Brew_Date</th>\n",
              "      <th>Beer_Style</th>\n",
              "      <th>SKU</th>\n",
              "      <th>Location</th>\n",
              "      <th>Fermentation_Time</th>\n",
              "      <th>Temperature</th>\n",
              "      <th>pH_Level</th>\n",
              "      <th>Gravity</th>\n",
              "      <th>Alcohol_Content</th>\n",
              "      <th>Bitterness</th>\n",
              "      <th>Color</th>\n",
              "      <th>Ingredient_Ratio</th>\n",
              "      <th>Volume_Produced</th>\n",
              "      <th>Total_Sales</th>\n",
              "      <th>Quality_Score</th>\n",
              "      <th>Brewhouse_Efficiency</th>\n",
              "      <th>Loss_During_Brewing</th>\n",
              "      <th>Loss_During_Fermentation</th>\n",
              "      <th>Loss_During_Bottling_Kegging</th>\n",
              "    </tr>\n",
              "  </thead>\n",
              "  <tbody>\n",
              "    <tr>\n",
              "      <th>0</th>\n",
              "      <td>7870796</td>\n",
              "      <td>2020-01-01 00:00:19</td>\n",
              "      <td>Wheat Beer</td>\n",
              "      <td>Kegs</td>\n",
              "      <td>Whitefield</td>\n",
              "      <td>16</td>\n",
              "      <td>24.204251</td>\n",
              "      <td>5.289845</td>\n",
              "      <td>1.039504</td>\n",
              "      <td>5.370842</td>\n",
              "      <td>20</td>\n",
              "      <td>5</td>\n",
              "      <td>1:0.32:0.16</td>\n",
              "      <td>4666</td>\n",
              "      <td>2664.759345</td>\n",
              "      <td>8.577016</td>\n",
              "      <td>89.195882</td>\n",
              "      <td>4.104988</td>\n",
              "      <td>3.235485</td>\n",
              "      <td>4.663204</td>\n",
              "    </tr>\n",
              "    <tr>\n",
              "      <th>1</th>\n",
              "      <td>9810411</td>\n",
              "      <td>2020-01-01 00:00:31</td>\n",
              "      <td>Sour</td>\n",
              "      <td>Kegs</td>\n",
              "      <td>Whitefield</td>\n",
              "      <td>13</td>\n",
              "      <td>18.086763</td>\n",
              "      <td>5.275643</td>\n",
              "      <td>1.059819</td>\n",
              "      <td>5.096053</td>\n",
              "      <td>36</td>\n",
              "      <td>14</td>\n",
              "      <td>1:0.39:0.24</td>\n",
              "      <td>832</td>\n",
              "      <td>9758.801062</td>\n",
              "      <td>7.420541</td>\n",
              "      <td>72.480915</td>\n",
              "      <td>2.676528</td>\n",
              "      <td>4.246129</td>\n",
              "      <td>2.044358</td>\n",
              "    </tr>\n",
              "    <tr>\n",
              "      <th>2</th>\n",
              "      <td>2623342</td>\n",
              "      <td>2020-01-01 00:00:40</td>\n",
              "      <td>Wheat Beer</td>\n",
              "      <td>Kegs</td>\n",
              "      <td>Malleswaram</td>\n",
              "      <td>12</td>\n",
              "      <td>15.539333</td>\n",
              "      <td>4.778016</td>\n",
              "      <td>1.037476</td>\n",
              "      <td>4.824737</td>\n",
              "      <td>30</td>\n",
              "      <td>10</td>\n",
              "      <td>1:0.35:0.16</td>\n",
              "      <td>2115</td>\n",
              "      <td>11721.087016</td>\n",
              "      <td>8.451365</td>\n",
              "      <td>86.322144</td>\n",
              "      <td>3.299894</td>\n",
              "      <td>3.109440</td>\n",
              "      <td>3.033880</td>\n",
              "    </tr>\n",
              "    <tr>\n",
              "      <th>3</th>\n",
              "      <td>8114651</td>\n",
              "      <td>2020-01-01 00:01:37</td>\n",
              "      <td>Ale</td>\n",
              "      <td>Kegs</td>\n",
              "      <td>Rajajinagar</td>\n",
              "      <td>17</td>\n",
              "      <td>16.418489</td>\n",
              "      <td>5.345261</td>\n",
              "      <td>1.052431</td>\n",
              "      <td>5.509243</td>\n",
              "      <td>48</td>\n",
              "      <td>18</td>\n",
              "      <td>1:0.35:0.15</td>\n",
              "      <td>3173</td>\n",
              "      <td>12050.177463</td>\n",
              "      <td>9.671859</td>\n",
              "      <td>83.094940</td>\n",
              "      <td>2.136055</td>\n",
              "      <td>4.634254</td>\n",
              "      <td>1.489889</td>\n",
              "    </tr>\n",
              "    <tr>\n",
              "      <th>4</th>\n",
              "      <td>4579587</td>\n",
              "      <td>2020-01-01 00:01:43</td>\n",
              "      <td>Stout</td>\n",
              "      <td>Cans</td>\n",
              "      <td>Marathahalli</td>\n",
              "      <td>18</td>\n",
              "      <td>19.144908</td>\n",
              "      <td>4.861854</td>\n",
              "      <td>1.054296</td>\n",
              "      <td>5.133625</td>\n",
              "      <td>57</td>\n",
              "      <td>13</td>\n",
              "      <td>1:0.46:0.11</td>\n",
              "      <td>4449</td>\n",
              "      <td>5515.077465</td>\n",
              "      <td>7.895334</td>\n",
              "      <td>88.625833</td>\n",
              "      <td>4.491724</td>\n",
              "      <td>2.183389</td>\n",
              "      <td>2.990630</td>\n",
              "    </tr>\n",
              "  </tbody>\n",
              "</table>\n",
              "</div>\n",
              "    <div class=\"colab-df-buttons\">\n",
              "\n",
              "  <div class=\"colab-df-container\">\n",
              "    <button class=\"colab-df-convert\" onclick=\"convertToInteractive('df-8805b2ec-1588-4436-a26a-68096b5ba547')\"\n",
              "            title=\"Convert this dataframe to an interactive table.\"\n",
              "            style=\"display:none;\">\n",
              "\n",
              "  <svg xmlns=\"http://www.w3.org/2000/svg\" height=\"24px\" viewBox=\"0 -960 960 960\">\n",
              "    <path d=\"M120-120v-720h720v720H120Zm60-500h600v-160H180v160Zm220 220h160v-160H400v160Zm0 220h160v-160H400v160ZM180-400h160v-160H180v160Zm440 0h160v-160H620v160ZM180-180h160v-160H180v160Zm440 0h160v-160H620v160Z\"/>\n",
              "  </svg>\n",
              "    </button>\n",
              "\n",
              "  <style>\n",
              "    .colab-df-container {\n",
              "      display:flex;\n",
              "      gap: 12px;\n",
              "    }\n",
              "\n",
              "    .colab-df-convert {\n",
              "      background-color: #E8F0FE;\n",
              "      border: none;\n",
              "      border-radius: 50%;\n",
              "      cursor: pointer;\n",
              "      display: none;\n",
              "      fill: #1967D2;\n",
              "      height: 32px;\n",
              "      padding: 0 0 0 0;\n",
              "      width: 32px;\n",
              "    }\n",
              "\n",
              "    .colab-df-convert:hover {\n",
              "      background-color: #E2EBFA;\n",
              "      box-shadow: 0px 1px 2px rgba(60, 64, 67, 0.3), 0px 1px 3px 1px rgba(60, 64, 67, 0.15);\n",
              "      fill: #174EA6;\n",
              "    }\n",
              "\n",
              "    .colab-df-buttons div {\n",
              "      margin-bottom: 4px;\n",
              "    }\n",
              "\n",
              "    [theme=dark] .colab-df-convert {\n",
              "      background-color: #3B4455;\n",
              "      fill: #D2E3FC;\n",
              "    }\n",
              "\n",
              "    [theme=dark] .colab-df-convert:hover {\n",
              "      background-color: #434B5C;\n",
              "      box-shadow: 0px 1px 3px 1px rgba(0, 0, 0, 0.15);\n",
              "      filter: drop-shadow(0px 1px 2px rgba(0, 0, 0, 0.3));\n",
              "      fill: #FFFFFF;\n",
              "    }\n",
              "  </style>\n",
              "\n",
              "    <script>\n",
              "      const buttonEl =\n",
              "        document.querySelector('#df-8805b2ec-1588-4436-a26a-68096b5ba547 button.colab-df-convert');\n",
              "      buttonEl.style.display =\n",
              "        google.colab.kernel.accessAllowed ? 'block' : 'none';\n",
              "\n",
              "      async function convertToInteractive(key) {\n",
              "        const element = document.querySelector('#df-8805b2ec-1588-4436-a26a-68096b5ba547');\n",
              "        const dataTable =\n",
              "          await google.colab.kernel.invokeFunction('convertToInteractive',\n",
              "                                                    [key], {});\n",
              "        if (!dataTable) return;\n",
              "\n",
              "        const docLinkHtml = 'Like what you see? Visit the ' +\n",
              "          '<a target=\"_blank\" href=https://colab.research.google.com/notebooks/data_table.ipynb>data table notebook</a>'\n",
              "          + ' to learn more about interactive tables.';\n",
              "        element.innerHTML = '';\n",
              "        dataTable['output_type'] = 'display_data';\n",
              "        await google.colab.output.renderOutput(dataTable, element);\n",
              "        const docLink = document.createElement('div');\n",
              "        docLink.innerHTML = docLinkHtml;\n",
              "        element.appendChild(docLink);\n",
              "      }\n",
              "    </script>\n",
              "  </div>\n",
              "\n",
              "\n",
              "<div id=\"df-a6932bd6-3c74-4764-a39e-4d06e5a30aac\">\n",
              "  <button class=\"colab-df-quickchart\" onclick=\"quickchart('df-a6932bd6-3c74-4764-a39e-4d06e5a30aac')\"\n",
              "            title=\"Suggest charts\"\n",
              "            style=\"display:none;\">\n",
              "\n",
              "<svg xmlns=\"http://www.w3.org/2000/svg\" height=\"24px\"viewBox=\"0 0 24 24\"\n",
              "     width=\"24px\">\n",
              "    <g>\n",
              "        <path d=\"M19 3H5c-1.1 0-2 .9-2 2v14c0 1.1.9 2 2 2h14c1.1 0 2-.9 2-2V5c0-1.1-.9-2-2-2zM9 17H7v-7h2v7zm4 0h-2V7h2v10zm4 0h-2v-4h2v4z\"/>\n",
              "    </g>\n",
              "</svg>\n",
              "  </button>\n",
              "\n",
              "<style>\n",
              "  .colab-df-quickchart {\n",
              "      --bg-color: #E8F0FE;\n",
              "      --fill-color: #1967D2;\n",
              "      --hover-bg-color: #E2EBFA;\n",
              "      --hover-fill-color: #174EA6;\n",
              "      --disabled-fill-color: #AAA;\n",
              "      --disabled-bg-color: #DDD;\n",
              "  }\n",
              "\n",
              "  [theme=dark] .colab-df-quickchart {\n",
              "      --bg-color: #3B4455;\n",
              "      --fill-color: #D2E3FC;\n",
              "      --hover-bg-color: #434B5C;\n",
              "      --hover-fill-color: #FFFFFF;\n",
              "      --disabled-bg-color: #3B4455;\n",
              "      --disabled-fill-color: #666;\n",
              "  }\n",
              "\n",
              "  .colab-df-quickchart {\n",
              "    background-color: var(--bg-color);\n",
              "    border: none;\n",
              "    border-radius: 50%;\n",
              "    cursor: pointer;\n",
              "    display: none;\n",
              "    fill: var(--fill-color);\n",
              "    height: 32px;\n",
              "    padding: 0;\n",
              "    width: 32px;\n",
              "  }\n",
              "\n",
              "  .colab-df-quickchart:hover {\n",
              "    background-color: var(--hover-bg-color);\n",
              "    box-shadow: 0 1px 2px rgba(60, 64, 67, 0.3), 0 1px 3px 1px rgba(60, 64, 67, 0.15);\n",
              "    fill: var(--button-hover-fill-color);\n",
              "  }\n",
              "\n",
              "  .colab-df-quickchart-complete:disabled,\n",
              "  .colab-df-quickchart-complete:disabled:hover {\n",
              "    background-color: var(--disabled-bg-color);\n",
              "    fill: var(--disabled-fill-color);\n",
              "    box-shadow: none;\n",
              "  }\n",
              "\n",
              "  .colab-df-spinner {\n",
              "    border: 2px solid var(--fill-color);\n",
              "    border-color: transparent;\n",
              "    border-bottom-color: var(--fill-color);\n",
              "    animation:\n",
              "      spin 1s steps(1) infinite;\n",
              "  }\n",
              "\n",
              "  @keyframes spin {\n",
              "    0% {\n",
              "      border-color: transparent;\n",
              "      border-bottom-color: var(--fill-color);\n",
              "      border-left-color: var(--fill-color);\n",
              "    }\n",
              "    20% {\n",
              "      border-color: transparent;\n",
              "      border-left-color: var(--fill-color);\n",
              "      border-top-color: var(--fill-color);\n",
              "    }\n",
              "    30% {\n",
              "      border-color: transparent;\n",
              "      border-left-color: var(--fill-color);\n",
              "      border-top-color: var(--fill-color);\n",
              "      border-right-color: var(--fill-color);\n",
              "    }\n",
              "    40% {\n",
              "      border-color: transparent;\n",
              "      border-right-color: var(--fill-color);\n",
              "      border-top-color: var(--fill-color);\n",
              "    }\n",
              "    60% {\n",
              "      border-color: transparent;\n",
              "      border-right-color: var(--fill-color);\n",
              "    }\n",
              "    80% {\n",
              "      border-color: transparent;\n",
              "      border-right-color: var(--fill-color);\n",
              "      border-bottom-color: var(--fill-color);\n",
              "    }\n",
              "    90% {\n",
              "      border-color: transparent;\n",
              "      border-bottom-color: var(--fill-color);\n",
              "    }\n",
              "  }\n",
              "</style>\n",
              "\n",
              "  <script>\n",
              "    async function quickchart(key) {\n",
              "      const quickchartButtonEl =\n",
              "        document.querySelector('#' + key + ' button');\n",
              "      quickchartButtonEl.disabled = true;  // To prevent multiple clicks.\n",
              "      quickchartButtonEl.classList.add('colab-df-spinner');\n",
              "      try {\n",
              "        const charts = await google.colab.kernel.invokeFunction(\n",
              "            'suggestCharts', [key], {});\n",
              "      } catch (error) {\n",
              "        console.error('Error during call to suggestCharts:', error);\n",
              "      }\n",
              "      quickchartButtonEl.classList.remove('colab-df-spinner');\n",
              "      quickchartButtonEl.classList.add('colab-df-quickchart-complete');\n",
              "    }\n",
              "    (() => {\n",
              "      let quickchartButtonEl =\n",
              "        document.querySelector('#df-a6932bd6-3c74-4764-a39e-4d06e5a30aac button');\n",
              "      quickchartButtonEl.style.display =\n",
              "        google.colab.kernel.accessAllowed ? 'block' : 'none';\n",
              "    })();\n",
              "  </script>\n",
              "</div>\n",
              "    </div>\n",
              "  </div>\n"
            ],
            "application/vnd.google.colaboratory.intrinsic+json": {
              "type": "dataframe",
              "variable_name": "data"
            }
          },
          "metadata": {},
          "execution_count": 25
        }
      ]
    },
    {
      "cell_type": "markdown",
      "source": [
        "**Validation**"
      ],
      "metadata": {
        "id": "CbCQgESIY7Bf"
      }
    },
    {
      "cell_type": "markdown",
      "source": [
        "*create utility file*"
      ],
      "metadata": {
        "id": "Eb69QLCfm-Y3"
      }
    },
    {
      "cell_type": "code",
      "source": [
        "import yaml\n",
        "import logging\n",
        "import os\n",
        "import subprocess\n",
        "import yaml\n",
        "import pandas as pd\n",
        "import datetime\n",
        "import gc\n",
        "import re\n",
        "import utility as util\n",
        "\n",
        "import gzip\n",
        "import os"
      ],
      "metadata": {
        "id": "1EGTKleTEMUw"
      },
      "execution_count": 26,
      "outputs": []
    },
    {
      "cell_type": "code",
      "source": [
        "!pip install virtualenv"
      ],
      "metadata": {
        "colab": {
          "base_uri": "https://localhost:8080/"
        },
        "id": "DL4NWkDDzaJD",
        "outputId": "c80c2acf-0497-438f-feeb-217c23f571ff"
      },
      "execution_count": 27,
      "outputs": [
        {
          "output_type": "stream",
          "name": "stdout",
          "text": [
            "Collecting virtualenv\n",
            "  Downloading virtualenv-20.26.2-py3-none-any.whl (3.9 MB)\n",
            "\u001b[2K     \u001b[90m━━━━━━━━━━━━━━━━━━━━━━━━━━━━━━━━━━━━━━━━\u001b[0m \u001b[32m3.9/3.9 MB\u001b[0m \u001b[31m29.8 MB/s\u001b[0m eta \u001b[36m0:00:00\u001b[0m\n",
            "\u001b[?25hCollecting distlib<1,>=0.3.7 (from virtualenv)\n",
            "  Downloading distlib-0.3.8-py2.py3-none-any.whl (468 kB)\n",
            "\u001b[2K     \u001b[90m━━━━━━━━━━━━━━━━━━━━━━━━━━━━━━━━━━━━━━━━\u001b[0m \u001b[32m468.9/468.9 kB\u001b[0m \u001b[31m44.5 MB/s\u001b[0m eta \u001b[36m0:00:00\u001b[0m\n",
            "\u001b[?25hRequirement already satisfied: filelock<4,>=3.12.2 in /usr/local/lib/python3.10/dist-packages (from virtualenv) (3.14.0)\n",
            "Requirement already satisfied: platformdirs<5,>=3.9.1 in /usr/local/lib/python3.10/dist-packages (from virtualenv) (4.2.2)\n",
            "Installing collected packages: distlib, virtualenv\n",
            "Successfully installed distlib-0.3.8 virtualenv-20.26.2\n"
          ]
        }
      ]
    },
    {
      "cell_type": "code",
      "source": [
        "!pip install pyyaml"
      ],
      "metadata": {
        "colab": {
          "base_uri": "https://localhost:8080/"
        },
        "id": "wlooXbF7yDzI",
        "outputId": "d9a52a57-ac1e-4309-afc9-830cf857e676"
      },
      "execution_count": 28,
      "outputs": [
        {
          "output_type": "stream",
          "name": "stdout",
          "text": [
            "Requirement already satisfied: pyyaml in /usr/local/lib/python3.10/dist-packages (6.0.1)\n"
          ]
        }
      ]
    },
    {
      "cell_type": "code",
      "source": [
        "%%writefile utility.py\n",
        "import logging\n",
        "import os\n",
        "import subprocess\n",
        "import yaml\n",
        "import pandas as pd\n",
        "import datetime\n",
        "import gc\n",
        "import re\n",
        "\n",
        "def read_config_file(filepath):\n",
        "    with open(filepath, 'r') as stream:\n",
        "        try:\n",
        "            return yaml.safe_load(stream)\n",
        "        except yaml.YAMLError as exc:\n",
        "            logging.error(exc)\n",
        "\n",
        "def replacer(string, char):\n",
        "    pattern = char + '{2,}'\n",
        "    string = re.sub(pattern, char, string)\n",
        "    return string\n",
        "\n",
        "def col_header_val(df, table_config):\n",
        "    '''\n",
        "    Replace whitespaces in the column names and standardize column names.\n",
        "    '''\n",
        "    df.columns = df.columns.str.lower()\n",
        "    df.columns = df.columns.str.replace('[^\\w]', '_', regex=True)\n",
        "    df.columns = list(map(lambda x: x.strip('_'), list(df.columns)))\n",
        "    df.columns = list(map(lambda x: replacer(x, '_'), list(df.columns)))\n",
        "    expected_col = list(map(lambda x: x.lower(), table_config['columns']))\n",
        "    expected_col.sort()\n",
        "    df.columns = list(map(lambda x: x.lower(), list(df.columns)))\n",
        "    df = df.reindex(sorted(df.columns), axis=1)\n",
        "    if len(df.columns) == len(expected_col) and list(expected_col) == list(df.columns):\n",
        "        print(\"Column name and column length validation passed\")\n",
        "        return 1\n",
        "    else:\n",
        "        print(\"Column name and column length validation failed\")\n",
        "        mismatched_columns_file = list(set(df.columns).difference(expected_col))\n",
        "        print(\"Following File columns are not in the YAML file\", mismatched_columns_file)\n",
        "        missing_yaml_file = list(set(expected_col).difference(df.columns))\n",
        "        print(\"Following YAML columns are not in the file uploaded\", missing_yaml_file)\n",
        "        logging.info(f'df columns: {df.columns}')\n",
        "        logging.info(f'expected columns: {expected_col}')\n",
        "        return 0"
      ],
      "metadata": {
        "colab": {
          "base_uri": "https://localhost:8080/"
        },
        "id": "gLuFG7eWmzVG",
        "outputId": "d7bd3a0a-05ba-4488-aa7f-97930d3b7243"
      },
      "execution_count": 29,
      "outputs": [
        {
          "output_type": "stream",
          "name": "stdout",
          "text": [
            "Overwriting utility.py\n"
          ]
        }
      ]
    },
    {
      "cell_type": "markdown",
      "source": [
        "*write YAML file*"
      ],
      "metadata": {
        "id": "3ye_LujNprdM"
      }
    },
    {
      "cell_type": "code",
      "source": [
        "%%writefile file.yaml\n",
        "file_type: csv\n",
        "dataset_name: brewery_data\n",
        "file_name: brewery_data\n",
        "table_name: brewery_records\n",
        "inbound_delimiter: \",\"\n",
        "outbound_delimiter: \"|\"\n",
        "skip_leading_rows: 1\n",
        "columns:\n",
        "   - batch_id\n",
        "   - brew_date\n",
        "   - beer_style\n",
        "   - sku\n",
        "   - location\n",
        "   - fermentation_time\n",
        "   - temperature\n",
        "   - ph_level\n",
        "   - gravity\n",
        "   - alcohol_content\n",
        "   - bitterness\n",
        "   - color\n",
        "   - ingredient_ratio\n",
        "   - volume_produced\n",
        "   - total_sales\n",
        "   - quality_score\n",
        "   - brewhouse_efficiency\n",
        "   - loss_during_brewing\n",
        "   - loss_during_fermentation\n",
        "   - loss_during_bottling_kegging"
      ],
      "metadata": {
        "colab": {
          "base_uri": "https://localhost:8080/"
        },
        "id": "wSzXSbfXyQX4",
        "outputId": "5e332c8f-b0eb-4e41-85c8-bd26c9437f2c"
      },
      "execution_count": 30,
      "outputs": [
        {
          "output_type": "stream",
          "name": "stdout",
          "text": [
            "Overwriting file.yaml\n"
          ]
        }
      ]
    },
    {
      "cell_type": "code",
      "source": [
        "!pip install python-utils"
      ],
      "metadata": {
        "colab": {
          "base_uri": "https://localhost:8080/"
        },
        "id": "XPTXK0Eir6to",
        "outputId": "e9d5b522-ac19-4550-af00-108c6ee42843"
      },
      "execution_count": 31,
      "outputs": [
        {
          "output_type": "stream",
          "name": "stdout",
          "text": [
            "Requirement already satisfied: python-utils in /usr/local/lib/python3.10/dist-packages (3.8.2)\n",
            "Requirement already satisfied: typing-extensions>3.10.0.2 in /usr/local/lib/python3.10/dist-packages (from python-utils) (4.12.1)\n"
          ]
        }
      ]
    },
    {
      "cell_type": "code",
      "source": [
        "# Reading config file\n",
        "import utility as util\n",
        "config_data = util.read_config_file(\"file.yaml\")\n",
        "config_data"
      ],
      "metadata": {
        "colab": {
          "base_uri": "https://localhost:8080/"
        },
        "id": "4cb9PVEsrDm-",
        "outputId": "d7c2c9f0-45db-458c-ef26-72dd1ec8cfd1"
      },
      "execution_count": 32,
      "outputs": [
        {
          "output_type": "execute_result",
          "data": {
            "text/plain": [
              "{'file_type': 'csv',\n",
              " 'dataset_name': 'brewery_data',\n",
              " 'file_name': 'brewery_data',\n",
              " 'table_name': 'brewery_records',\n",
              " 'inbound_delimiter': ',',\n",
              " 'outbound_delimiter': '|',\n",
              " 'skip_leading_rows': 1,\n",
              " 'columns': ['batch_id',\n",
              "  'brew_date',\n",
              "  'beer_style',\n",
              "  'sku',\n",
              "  'location',\n",
              "  'fermentation_time',\n",
              "  'temperature',\n",
              "  'ph_level',\n",
              "  'gravity',\n",
              "  'alcohol_content',\n",
              "  'bitterness',\n",
              "  'color',\n",
              "  'ingredient_ratio',\n",
              "  'volume_produced',\n",
              "  'total_sales',\n",
              "  'quality_score',\n",
              "  'brewhouse_efficiency',\n",
              "  'loss_during_brewing',\n",
              "  'loss_during_fermentation',\n",
              "  'loss_during_bottling_kegging']}"
            ]
          },
          "metadata": {},
          "execution_count": 32
        }
      ]
    },
    {
      "cell_type": "code",
      "source": [
        "config_data['file_type']"
      ],
      "metadata": {
        "colab": {
          "base_uri": "https://localhost:8080/",
          "height": 35
        },
        "id": "5wPqGcPLd0Qu",
        "outputId": "fed5b1cf-5012-468d-f497-787a7d6ef8bc"
      },
      "execution_count": 33,
      "outputs": [
        {
          "output_type": "execute_result",
          "data": {
            "text/plain": [
              "'csv'"
            ],
            "application/vnd.google.colaboratory.intrinsic+json": {
              "type": "string"
            }
          },
          "metadata": {},
          "execution_count": 33
        }
      ]
    },
    {
      "cell_type": "code",
      "source": [
        "config_data['inbound_delimiter']"
      ],
      "metadata": {
        "colab": {
          "base_uri": "https://localhost:8080/",
          "height": 35
        },
        "id": "DmJagCZrLiRj",
        "outputId": "5f782a79-765d-4364-d28e-2c0d9239f0ec"
      },
      "execution_count": 34,
      "outputs": [
        {
          "output_type": "execute_result",
          "data": {
            "text/plain": [
              "','"
            ],
            "application/vnd.google.colaboratory.intrinsic+json": {
              "type": "string"
            }
          },
          "metadata": {},
          "execution_count": 34
        }
      ]
    },
    {
      "cell_type": "code",
      "source": [
        "# # Read the dataset based on the configuration settings\n",
        "# df = pd.read_csv(config_data['file_name'] + f\".{config_data['file_type']}\", delimiter=config_data['inbound_delimiter'])\n",
        "\n",
        "# # # Validate column names to ensure they match the expected columns from the YAML configuration\n",
        "# # if set(df.columns) == set(config_data['columns']):\n",
        "# #     print(\"Column name and length validation passed\")\n",
        "# # else:\n",
        "# #     print(\"Column name and length validation failed\")\n",
        "# #     print(\"Expected columns:\", config_data['columns'])\n",
        "# #     print(\"Found columns:\", df.columns)"
      ],
      "metadata": {
        "id": "F5mYAsdlgvr9"
      },
      "execution_count": 35,
      "outputs": []
    },
    {
      "cell_type": "code",
      "source": [
        "import pandas as pd\n",
        "import utility as util\n",
        "import gzip\n",
        "import os\n",
        "\n",
        "# Load configuration from YAML file using a utility function\n",
        "config_data = util.read_config_file(\"file.yaml\")\n",
        "\n",
        "# Read the dataset based on the configuration settings\n",
        "source_file = config_data['file_name'] + f\".{config_data['file_type']}\"\n",
        "df = pd.read_csv(source_file, delimiter=config_data['inbound_delimiter'])\n",
        "\n",
        "# Validate column headers\n",
        "validation_result = util.col_header_val(df, config_data)\n",
        "\n",
        "if validation_result == 1:\n",
        "    print(\"Column validation passed.\")\n",
        "\n",
        "    # Write the DataFrame to a new pipe-separated gzip file\n",
        "    output_file = config_data['file_name'] + \".gz\"\n",
        "    with gzip.open(output_file, 'wt') as gz_file:\n",
        "        df.to_csv(gz_file, sep=config_data['outbound_delimiter'], index=False)\n",
        "\n",
        "    # Print a summary of the data file\n",
        "    print(\"Total number of rows:\", df.shape[0])\n",
        "    print(\"Total number of columns:\", df.shape[1])\n",
        "    print(\"File size:\", os.path.getsize(output_file), \"bytes\")\n",
        "else:\n",
        "    print(\"Column validation failed. Please check the column names and try again.\")\n"
      ],
      "metadata": {
        "colab": {
          "base_uri": "https://localhost:8080/"
        },
        "id": "irWKl-O8lghq",
        "outputId": "95c97f4d-8782-42aa-968b-dda841d19ad0"
      },
      "execution_count": 36,
      "outputs": [
        {
          "output_type": "stream",
          "name": "stdout",
          "text": [
            "Column name and column length validation passed\n",
            "Column validation passed.\n",
            "Total number of rows: 10000000\n",
            "Total number of columns: 20\n",
            "File size: 1126716750 bytes\n"
          ]
        }
      ]
    },
    {
      "cell_type": "code",
      "source": [
        "# # Write the DataFrame to a new pipe-separated gzip file\n",
        "# output_file = config_data['file_name'] + \".gz\"\n",
        "# with gzip.open(output_file, 'wt') as gz_file:\n",
        "#     df.to_csv(gz_file, sep=config_data['outbound_delimiter'], index=False)"
      ],
      "metadata": {
        "id": "6bIJWz1fhBay"
      },
      "execution_count": 37,
      "outputs": []
    },
    {
      "cell_type": "code",
      "source": [
        "# # Print a summary of the data file\n",
        "# print(\"Total number of rows:\", df.shape[0])\n",
        "# print(\"Total number of columns:\", df.shape[1])\n",
        "# print(\"File size:\", os.path.getsize(output_file), \"bytes\")"
      ],
      "metadata": {
        "id": "kfIPL2UlhCJj"
      },
      "execution_count": 38,
      "outputs": []
    },
    {
      "cell_type": "code",
      "source": [
        "print(\"columns of files are:\" ,df.columns)\n",
        "print(\"columns of YAML are:\" ,config_data['columns'])"
      ],
      "metadata": {
        "colab": {
          "base_uri": "https://localhost:8080/"
        },
        "id": "0-wO2N1BIvEJ",
        "outputId": "07c5346b-8497-4aeb-ec39-acdd692c53fa"
      },
      "execution_count": 39,
      "outputs": [
        {
          "output_type": "stream",
          "name": "stdout",
          "text": [
            "columns of files are: Index(['batch_id', 'brew_date', 'beer_style', 'sku', 'location',\n",
            "       'fermentation_time', 'temperature', 'ph_level', 'gravity',\n",
            "       'alcohol_content', 'bitterness', 'color', 'ingredient_ratio',\n",
            "       'volume_produced', 'total_sales', 'quality_score',\n",
            "       'brewhouse_efficiency', 'loss_during_brewing',\n",
            "       'loss_during_fermentation', 'loss_during_bottling_kegging'],\n",
            "      dtype='object')\n",
            "columns of YAML are: ['batch_id', 'brew_date', 'beer_style', 'sku', 'location', 'fermentation_time', 'temperature', 'ph_level', 'gravity', 'alcohol_content', 'bitterness', 'color', 'ingredient_ratio', 'volume_produced', 'total_sales', 'quality_score', 'brewhouse_efficiency', 'loss_during_brewing', 'loss_during_fermentation', 'loss_during_bottling_kegging']\n"
          ]
        }
      ]
    }
  ]
}